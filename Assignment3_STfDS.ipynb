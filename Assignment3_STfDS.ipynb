{
  "nbformat": 4,
  "nbformat_minor": 0,
  "metadata": {
    "colab": {
      "name": "Assignment3_STfDS.ipynb",
      "provenance": []
    },
    "kernelspec": {
      "name": "python3",
      "display_name": "Python 3"
    },
    "language_info": {
      "name": "python"
    }
  },
  "cells": [
    {
      "cell_type": "markdown",
      "source": [
        "#Assignment 3 - Application of Sampling\n",
        "## Ravida Saitova, BS18-DS01\n",
        "### April 2022\n"
      ],
      "metadata": {
        "id": "I1IRZRoXkoP8"
      }
    },
    {
      "cell_type": "markdown",
      "source": [
        "#### The goal for this homework is to implement an optimization algorithm called simulated Annealing (SA). "
      ],
      "metadata": {
        "id": "M6XtNdP5VreC"
      }
    },
    {
      "cell_type": "markdown",
      "source": [
        "##### Imports"
      ],
      "metadata": {
        "id": "RfHY8dYAqedw"
      }
    },
    {
      "cell_type": "code",
      "source": [
        "from google.colab import drive\n",
        "import pandas as pd\n",
        "from geopy.distance import geodesic\n",
        "import numpy as np\n",
        "import math\n",
        "import numpy.random as random"
      ],
      "metadata": {
        "id": "hxI6zl6aqlIH"
      },
      "execution_count": 1,
      "outputs": []
    },
    {
      "cell_type": "markdown",
      "source": [
        "##### Download the location data for cities in Russia"
      ],
      "metadata": {
        "id": "oDDbeV7jqg22"
      }
    },
    {
      "cell_type": "code",
      "execution_count": 2,
      "metadata": {
        "colab": {
          "base_uri": "https://localhost:8080/"
        },
        "id": "CgrP8oV-TY08",
        "outputId": "ed19dc83-bc60-46e8-fba8-0b8eae554054"
      },
      "outputs": [
        {
          "output_type": "stream",
          "name": "stdout",
          "text": [
            "Mounted at /content/drive\n",
            "Archive:  /content/drive/MyDrive/city-master.zip\n",
            "ae661bffe572880472249097c9b29c42b09650ea\n",
            "   creating: city-master/\n",
            "  inflating: city-master/README.md   \n",
            "  inflating: city-master/city.csv    \n",
            "  inflating: city-master/city.csv-metadata.json  \n"
          ]
        }
      ],
      "source": [
        "drive.mount('/content/drive')\n",
        "!unzip '/content/drive/MyDrive/city-master.zip'\n",
        "data = pd.read_csv('/content/city-master/city.csv')"
      ]
    },
    {
      "cell_type": "markdown",
      "source": [
        "##### Find the  30 most populated cities in Russia"
      ],
      "metadata": {
        "id": "KTYYjxOVVvvG"
      }
    },
    {
      "cell_type": "code",
      "source": [
        "data.sort_values(by = ['population'], ascending=False, inplace=True)\n",
        "sorted = data[['address','geo_lat','geo_lon']][:30]\n",
        "sorted"
      ],
      "metadata": {
        "colab": {
          "base_uri": "https://localhost:8080/",
          "height": 990
        },
        "id": "TWWDzfjRVyLp",
        "outputId": "99b419bf-2682-4751-9fbc-8bf005acf5ea"
      },
      "execution_count": 3,
      "outputs": [
        {
          "output_type": "execute_result",
          "data": {
            "text/plain": [
              "                                           address    geo_lat     geo_lon\n",
              "509                                       г Москва  55.754047   37.620405\n",
              "786                              г Санкт-Петербург  59.939131   30.315900\n",
              "647                                  г Новосибирск  55.028191   82.921149\n",
              "832                                 г Екатеринбург  56.838522   60.605491\n",
              "619                              г Нижний Новгород  56.324063   44.005391\n",
              "927                                       г Казань  55.794358   49.111497\n",
              "782                                       г Самара  53.195031   50.106952\n",
              "656                                         г Омск  54.984857   73.367452\n",
              "1064                                   г Челябинск  55.160262   61.400808\n",
              "757                               г Ростов-на-Дону  47.222457   39.718803\n",
              "62                                           г Уфа  54.734944   55.957847\n",
              "121                                    г Волгоград  48.707004   44.517034\n",
              "706                                        г Пермь  58.010258   56.234203\n",
              "411                                   г Красноярск  56.009388   92.852481\n",
              "159                                      г Воронеж  51.659333   39.196923\n",
              "801                                      г Саратов  51.533557   46.034257\n",
              "381                                    г Краснодар  45.040160   38.975965\n",
              "784                      Самарская обл, г Тольятти  53.520535   49.389403\n",
              "4                                        г Барнаул  53.347997   83.779806\n",
              "999                                       г Ижевск  56.852738   53.211490\n",
              "1008                                   г Ульяновск  54.307941   48.374849\n",
              "717                                  г Владивосток  43.116490  131.882394\n",
              "1116                                   г Ярославль  57.621548   39.897741\n",
              "223                                      г Иркутск  52.286404  104.280747\n",
              "995                                       г Тюмень  57.152974   65.534410\n",
              "177                                    г Махачкала  42.984916   47.504718\n",
              "1015                                   г Хабаровск  48.464726  135.059894\n",
              "666                                     г Оренбург  51.787509   55.101883\n",
              "322   Кемеровская область - Кузбасс, г Новокузнецк  53.794315   87.214275\n",
              "316                                     г Кемерово  55.391065   86.046778"
            ],
            "text/html": [
              "\n",
              "  <div id=\"df-0eb4915b-b88a-4974-ad6f-65405bbae718\">\n",
              "    <div class=\"colab-df-container\">\n",
              "      <div>\n",
              "<style scoped>\n",
              "    .dataframe tbody tr th:only-of-type {\n",
              "        vertical-align: middle;\n",
              "    }\n",
              "\n",
              "    .dataframe tbody tr th {\n",
              "        vertical-align: top;\n",
              "    }\n",
              "\n",
              "    .dataframe thead th {\n",
              "        text-align: right;\n",
              "    }\n",
              "</style>\n",
              "<table border=\"1\" class=\"dataframe\">\n",
              "  <thead>\n",
              "    <tr style=\"text-align: right;\">\n",
              "      <th></th>\n",
              "      <th>address</th>\n",
              "      <th>geo_lat</th>\n",
              "      <th>geo_lon</th>\n",
              "    </tr>\n",
              "  </thead>\n",
              "  <tbody>\n",
              "    <tr>\n",
              "      <th>509</th>\n",
              "      <td>г Москва</td>\n",
              "      <td>55.754047</td>\n",
              "      <td>37.620405</td>\n",
              "    </tr>\n",
              "    <tr>\n",
              "      <th>786</th>\n",
              "      <td>г Санкт-Петербург</td>\n",
              "      <td>59.939131</td>\n",
              "      <td>30.315900</td>\n",
              "    </tr>\n",
              "    <tr>\n",
              "      <th>647</th>\n",
              "      <td>г Новосибирск</td>\n",
              "      <td>55.028191</td>\n",
              "      <td>82.921149</td>\n",
              "    </tr>\n",
              "    <tr>\n",
              "      <th>832</th>\n",
              "      <td>г Екатеринбург</td>\n",
              "      <td>56.838522</td>\n",
              "      <td>60.605491</td>\n",
              "    </tr>\n",
              "    <tr>\n",
              "      <th>619</th>\n",
              "      <td>г Нижний Новгород</td>\n",
              "      <td>56.324063</td>\n",
              "      <td>44.005391</td>\n",
              "    </tr>\n",
              "    <tr>\n",
              "      <th>927</th>\n",
              "      <td>г Казань</td>\n",
              "      <td>55.794358</td>\n",
              "      <td>49.111497</td>\n",
              "    </tr>\n",
              "    <tr>\n",
              "      <th>782</th>\n",
              "      <td>г Самара</td>\n",
              "      <td>53.195031</td>\n",
              "      <td>50.106952</td>\n",
              "    </tr>\n",
              "    <tr>\n",
              "      <th>656</th>\n",
              "      <td>г Омск</td>\n",
              "      <td>54.984857</td>\n",
              "      <td>73.367452</td>\n",
              "    </tr>\n",
              "    <tr>\n",
              "      <th>1064</th>\n",
              "      <td>г Челябинск</td>\n",
              "      <td>55.160262</td>\n",
              "      <td>61.400808</td>\n",
              "    </tr>\n",
              "    <tr>\n",
              "      <th>757</th>\n",
              "      <td>г Ростов-на-Дону</td>\n",
              "      <td>47.222457</td>\n",
              "      <td>39.718803</td>\n",
              "    </tr>\n",
              "    <tr>\n",
              "      <th>62</th>\n",
              "      <td>г Уфа</td>\n",
              "      <td>54.734944</td>\n",
              "      <td>55.957847</td>\n",
              "    </tr>\n",
              "    <tr>\n",
              "      <th>121</th>\n",
              "      <td>г Волгоград</td>\n",
              "      <td>48.707004</td>\n",
              "      <td>44.517034</td>\n",
              "    </tr>\n",
              "    <tr>\n",
              "      <th>706</th>\n",
              "      <td>г Пермь</td>\n",
              "      <td>58.010258</td>\n",
              "      <td>56.234203</td>\n",
              "    </tr>\n",
              "    <tr>\n",
              "      <th>411</th>\n",
              "      <td>г Красноярск</td>\n",
              "      <td>56.009388</td>\n",
              "      <td>92.852481</td>\n",
              "    </tr>\n",
              "    <tr>\n",
              "      <th>159</th>\n",
              "      <td>г Воронеж</td>\n",
              "      <td>51.659333</td>\n",
              "      <td>39.196923</td>\n",
              "    </tr>\n",
              "    <tr>\n",
              "      <th>801</th>\n",
              "      <td>г Саратов</td>\n",
              "      <td>51.533557</td>\n",
              "      <td>46.034257</td>\n",
              "    </tr>\n",
              "    <tr>\n",
              "      <th>381</th>\n",
              "      <td>г Краснодар</td>\n",
              "      <td>45.040160</td>\n",
              "      <td>38.975965</td>\n",
              "    </tr>\n",
              "    <tr>\n",
              "      <th>784</th>\n",
              "      <td>Самарская обл, г Тольятти</td>\n",
              "      <td>53.520535</td>\n",
              "      <td>49.389403</td>\n",
              "    </tr>\n",
              "    <tr>\n",
              "      <th>4</th>\n",
              "      <td>г Барнаул</td>\n",
              "      <td>53.347997</td>\n",
              "      <td>83.779806</td>\n",
              "    </tr>\n",
              "    <tr>\n",
              "      <th>999</th>\n",
              "      <td>г Ижевск</td>\n",
              "      <td>56.852738</td>\n",
              "      <td>53.211490</td>\n",
              "    </tr>\n",
              "    <tr>\n",
              "      <th>1008</th>\n",
              "      <td>г Ульяновск</td>\n",
              "      <td>54.307941</td>\n",
              "      <td>48.374849</td>\n",
              "    </tr>\n",
              "    <tr>\n",
              "      <th>717</th>\n",
              "      <td>г Владивосток</td>\n",
              "      <td>43.116490</td>\n",
              "      <td>131.882394</td>\n",
              "    </tr>\n",
              "    <tr>\n",
              "      <th>1116</th>\n",
              "      <td>г Ярославль</td>\n",
              "      <td>57.621548</td>\n",
              "      <td>39.897741</td>\n",
              "    </tr>\n",
              "    <tr>\n",
              "      <th>223</th>\n",
              "      <td>г Иркутск</td>\n",
              "      <td>52.286404</td>\n",
              "      <td>104.280747</td>\n",
              "    </tr>\n",
              "    <tr>\n",
              "      <th>995</th>\n",
              "      <td>г Тюмень</td>\n",
              "      <td>57.152974</td>\n",
              "      <td>65.534410</td>\n",
              "    </tr>\n",
              "    <tr>\n",
              "      <th>177</th>\n",
              "      <td>г Махачкала</td>\n",
              "      <td>42.984916</td>\n",
              "      <td>47.504718</td>\n",
              "    </tr>\n",
              "    <tr>\n",
              "      <th>1015</th>\n",
              "      <td>г Хабаровск</td>\n",
              "      <td>48.464726</td>\n",
              "      <td>135.059894</td>\n",
              "    </tr>\n",
              "    <tr>\n",
              "      <th>666</th>\n",
              "      <td>г Оренбург</td>\n",
              "      <td>51.787509</td>\n",
              "      <td>55.101883</td>\n",
              "    </tr>\n",
              "    <tr>\n",
              "      <th>322</th>\n",
              "      <td>Кемеровская область - Кузбасс, г Новокузнецк</td>\n",
              "      <td>53.794315</td>\n",
              "      <td>87.214275</td>\n",
              "    </tr>\n",
              "    <tr>\n",
              "      <th>316</th>\n",
              "      <td>г Кемерово</td>\n",
              "      <td>55.391065</td>\n",
              "      <td>86.046778</td>\n",
              "    </tr>\n",
              "  </tbody>\n",
              "</table>\n",
              "</div>\n",
              "      <button class=\"colab-df-convert\" onclick=\"convertToInteractive('df-0eb4915b-b88a-4974-ad6f-65405bbae718')\"\n",
              "              title=\"Convert this dataframe to an interactive table.\"\n",
              "              style=\"display:none;\">\n",
              "        \n",
              "  <svg xmlns=\"http://www.w3.org/2000/svg\" height=\"24px\"viewBox=\"0 0 24 24\"\n",
              "       width=\"24px\">\n",
              "    <path d=\"M0 0h24v24H0V0z\" fill=\"none\"/>\n",
              "    <path d=\"M18.56 5.44l.94 2.06.94-2.06 2.06-.94-2.06-.94-.94-2.06-.94 2.06-2.06.94zm-11 1L8.5 8.5l.94-2.06 2.06-.94-2.06-.94L8.5 2.5l-.94 2.06-2.06.94zm10 10l.94 2.06.94-2.06 2.06-.94-2.06-.94-.94-2.06-.94 2.06-2.06.94z\"/><path d=\"M17.41 7.96l-1.37-1.37c-.4-.4-.92-.59-1.43-.59-.52 0-1.04.2-1.43.59L10.3 9.45l-7.72 7.72c-.78.78-.78 2.05 0 2.83L4 21.41c.39.39.9.59 1.41.59.51 0 1.02-.2 1.41-.59l7.78-7.78 2.81-2.81c.8-.78.8-2.07 0-2.86zM5.41 20L4 18.59l7.72-7.72 1.47 1.35L5.41 20z\"/>\n",
              "  </svg>\n",
              "      </button>\n",
              "      \n",
              "  <style>\n",
              "    .colab-df-container {\n",
              "      display:flex;\n",
              "      flex-wrap:wrap;\n",
              "      gap: 12px;\n",
              "    }\n",
              "\n",
              "    .colab-df-convert {\n",
              "      background-color: #E8F0FE;\n",
              "      border: none;\n",
              "      border-radius: 50%;\n",
              "      cursor: pointer;\n",
              "      display: none;\n",
              "      fill: #1967D2;\n",
              "      height: 32px;\n",
              "      padding: 0 0 0 0;\n",
              "      width: 32px;\n",
              "    }\n",
              "\n",
              "    .colab-df-convert:hover {\n",
              "      background-color: #E2EBFA;\n",
              "      box-shadow: 0px 1px 2px rgba(60, 64, 67, 0.3), 0px 1px 3px 1px rgba(60, 64, 67, 0.15);\n",
              "      fill: #174EA6;\n",
              "    }\n",
              "\n",
              "    [theme=dark] .colab-df-convert {\n",
              "      background-color: #3B4455;\n",
              "      fill: #D2E3FC;\n",
              "    }\n",
              "\n",
              "    [theme=dark] .colab-df-convert:hover {\n",
              "      background-color: #434B5C;\n",
              "      box-shadow: 0px 1px 3px 1px rgba(0, 0, 0, 0.15);\n",
              "      filter: drop-shadow(0px 1px 2px rgba(0, 0, 0, 0.3));\n",
              "      fill: #FFFFFF;\n",
              "    }\n",
              "  </style>\n",
              "\n",
              "      <script>\n",
              "        const buttonEl =\n",
              "          document.querySelector('#df-0eb4915b-b88a-4974-ad6f-65405bbae718 button.colab-df-convert');\n",
              "        buttonEl.style.display =\n",
              "          google.colab.kernel.accessAllowed ? 'block' : 'none';\n",
              "\n",
              "        async function convertToInteractive(key) {\n",
              "          const element = document.querySelector('#df-0eb4915b-b88a-4974-ad6f-65405bbae718');\n",
              "          const dataTable =\n",
              "            await google.colab.kernel.invokeFunction('convertToInteractive',\n",
              "                                                     [key], {});\n",
              "          if (!dataTable) return;\n",
              "\n",
              "          const docLinkHtml = 'Like what you see? Visit the ' +\n",
              "            '<a target=\"_blank\" href=https://colab.research.google.com/notebooks/data_table.ipynb>data table notebook</a>'\n",
              "            + ' to learn more about interactive tables.';\n",
              "          element.innerHTML = '';\n",
              "          dataTable['output_type'] = 'display_data';\n",
              "          await google.colab.output.renderOutput(dataTable, element);\n",
              "          const docLink = document.createElement('div');\n",
              "          docLink.innerHTML = docLinkHtml;\n",
              "          element.appendChild(docLink);\n",
              "        }\n",
              "      </script>\n",
              "    </div>\n",
              "  </div>\n",
              "  "
            ]
          },
          "metadata": {},
          "execution_count": 3
        }
      ]
    },
    {
      "cell_type": "markdown",
      "source": [
        "##### Calculate distances matrix among the cities"
      ],
      "metadata": {
        "id": "MyA50dGlXZAJ"
      }
    },
    {
      "cell_type": "code",
      "source": [
        "# coordinate (latitude, longitude)\n",
        "distances = np.zeros((30,30))\n",
        "\n",
        "for origin in range(30):\n",
        "  for dest in range(30):\n",
        "    distances[origin][dest] = geodesic((sorted['geo_lat'].iloc[origin], sorted['geo_lon'].iloc[origin]),(sorted['geo_lat'].iloc[dest], sorted['geo_lon'].iloc[dest])).kilometers"
      ],
      "metadata": {
        "id": "6cONjmoTXY2p"
      },
      "execution_count": 4,
      "outputs": []
    },
    {
      "cell_type": "markdown",
      "source": [
        "##### Function to compute energy value for given x, in our case it is the total travelled distance"
      ],
      "metadata": {
        "id": "YlFAyHUng2fu"
      }
    },
    {
      "cell_type": "code",
      "source": [
        "def dist(path):\n",
        "  total = 0\n",
        "  for i in range(1,len(path)):\n",
        "    total += distances[path[i-1]][path[i]]\n",
        "  # close the circle by traveling back to the initial city\n",
        "  total += distances[path[-1]][path[0]]\n",
        "  return total"
      ],
      "metadata": {
        "id": "TeuuLFjwg0T8"
      },
      "execution_count": 5,
      "outputs": []
    },
    {
      "cell_type": "markdown",
      "source": [
        "##### Fuction for Proposal distribution "
      ],
      "metadata": {
        "id": "xXtQvnGGlQ1K"
      }
    },
    {
      "cell_type": "code",
      "source": [
        "def g(x):\n",
        "  candidate = x.copy()\n",
        "  i,j =  np.random.choice(candidate, 2, replace=False)\n",
        "  candidate[i],candidate[j] = candidate[j],candidate[i]\n",
        "  return candidate"
      ],
      "metadata": {
        "id": "gg5Ogi3Sjti5"
      },
      "execution_count": 6,
      "outputs": []
    },
    {
      "cell_type": "markdown",
      "source": [
        "##### Function to calculate acceptance ratio that further will be used to accept/reject canditate samples:\n",
        "\n",
        "$α=\\frac{p^*(x')}{p^*(x_t)} = \\frac{e^{-\\frac{dist(x')}{T}}}{e^{-\\frac{dist(x_t)}{T}}} = e^{-\\frac{dist(x') - dist(x_t)}{T}}$\n"
      ],
      "metadata": {
        "id": "hiyFFWDLe_Ov"
      }
    },
    {
      "cell_type": "code",
      "source": [
        "# Imput is computed energy values, in our case the total travelled distance\n",
        "def ar(old, new, T):\n",
        "  return math.exp(-(new-old)/T)"
      ],
      "metadata": {
        "id": "Sot_HjzLfCBo"
      },
      "execution_count": 7,
      "outputs": []
    },
    {
      "cell_type": "markdown",
      "source": [
        "Fuction of Simulated Annealing:\n",
        "1. Sample initial $x_0$, set time step $t = 0$;\n",
        "2. Set initial temperature T. To avoid problems with numerical overflow when calculating the exponent, set the temperature comparable with the initial value of the system’s energy;\n",
        "3. Generate $x'$ from $g(x'|xt)$. For continuous problems, the common solution\n",
        "is to use the normal distribution;\n",
        "4. Calculate acceptance ratio $\\alpha = \\frac{p(x')}{ p(x_t)}$ ;\n",
        "5. Generate $u ∼ U(0, 1)$. If $u \\leq \\alpha$, accept the new state $x_{t+1} = x'$ , otherwise propagate the old state. Pass $x_t+1$ to the output of the sampler;\n",
        "6. Reduce temperature T. Temperature annealing does not have to take place on every iteration. The temperature can be decreased every N iteration as well. There is no strict rule about this;\n",
        "7. Increment t;\n",
        "8. Repeat 2-8 until cooled down. The solution can be sampled before the\n",
        "system is cooled down, but we have no way of knowing whether this was\n",
        "the optimal solution\n"
      ],
      "metadata": {
        "id": "WehgWvznl94Y"
      }
    },
    {
      "cell_type": "code",
      "source": [
        "def SA(a,step):\n",
        "  # Lists to save all needed information\n",
        "  states = []\n",
        "  temps = []\n",
        "  dists = []\n",
        "\n",
        "  # Starting values\n",
        "  x = random.permutation(30)\n",
        "  t = 0\n",
        "  T = 30**2\n",
        "\n",
        "  states.append(x)\n",
        "  dists.append(dist(x))\n",
        "  temps.append(T)\n",
        "\n",
        "  # Until temperature is not the limit \n",
        "  while T > 15:\n",
        "    # generate candidate\n",
        "    new = g(x)\n",
        "    # compute acceptance ratio\n",
        "    ratio = ar(dist(x),dist(new),T)\n",
        "    # acceptance criteria\n",
        "    if random.uniform() <= ratio:\n",
        "      x = new\n",
        "\n",
        "    # The number of steps we do not decrease the temperature\n",
        "    if (t % step == 0)   :\n",
        "      T *= a\n",
        "    t += 1\n",
        "    \n",
        "    states.append(x)\n",
        "    dists.append(dist(x))\n",
        "    temps.append(T)\n",
        "    if T < 20:\n",
        "      break\n",
        "\n",
        "  return states, dists, temps"
      ],
      "metadata": {
        "id": "O5nHPPr4l9eW"
      },
      "execution_count": 8,
      "outputs": []
    },
    {
      "cell_type": "markdown",
      "source": [
        "##### Compare the for your selected annealing schedule, track the speed of convergence for three different values of the annealing rate (try fast cooling, slow cooling, and some middle value). Compare the optimization result;\n"
      ],
      "metadata": {
        "id": "5LgOa0826iYk"
      }
    },
    {
      "cell_type": "code",
      "source": [
        "states_fast, dists_fast, temps_fast = SA(0.9,5)\n",
        "states_medium, dists_medium, temps_medium = SA(0.95,5)\n",
        "states_slow,  dists_slow, temps_slow = SA(0.99,5)"
      ],
      "metadata": {
        "id": "Zm9VKeAx1J59"
      },
      "execution_count": 12,
      "outputs": []
    },
    {
      "cell_type": "code",
      "source": [
        "import matplotlib.pyplot as plt\n",
        "# plot the difference\n",
        "plt.figure(figsize=(20, 10))\n",
        "plt.plot(range(len(temps_fast)), dists_fast, color = 'r', label='Fast')\n",
        "plt.plot(range(len(temps_medium)), dists_medium, color = 'b',label='Medium')\n",
        "plt.plot(range(len(temps_slow)), dists_slow,color = 'g', label='Slow')\n",
        "plt.legend()\n",
        "plt.show()"
      ],
      "metadata": {
        "colab": {
          "base_uri": "https://localhost:8080/",
          "height": 565
        },
        "id": "8vj_8Gx29gyX",
        "outputId": "d13a8990-81ec-491d-999e-0f09c2326d9f"
      },
      "execution_count": 13,
      "outputs": [
        {
          "output_type": "display_data",
          "data": {
            "text/plain": [
              "<Figure size 1440x720 with 1 Axes>"
            ],
            "image/png": "[encoded data removed]"
          },
          "metadata": {
            "needs_background": "light"
          }
        }
      ]
    },
    {
      "cell_type": "markdown",
      "source": [
        "The results show what we can achieve with this algorithm choosing different speed of cooling down. Choosing high cooling rate produce faster results but we can not achieve global minima at some cases or even stop at the local one. "
      ],
      "metadata": {
        "id": "ML0LjgW0vZX4"
      }
    },
    {
      "cell_type": "markdown",
      "source": [
        "##### Produce a visualization of your optimization process. \n"
      ],
      "metadata": {
        "id": "8-S84dwnJkkX"
      }
    },
    {
      "cell_type": "code",
      "source": [
        "# used: https://jakevdp.github.io/blog/2012/08/18/matplotlib-animation-tutorial/\n",
        "from matplotlib import animation\n",
        "\n",
        "fig = plt.figure(figsize=(20, 10))\n",
        "ax = plt.axes(xlim=(0, 200), ylim=(20, 100))\n",
        "plt.ylabel('latitude')\n",
        "plt.xlabel('longitude')\n",
        "line, = plt.plot([], [], lw=2)\n",
        "\n",
        "def init():\n",
        "    line.set_data([], [])\n",
        "    return line,\n",
        "\n",
        "def animate(i):\n",
        "  x = []\n",
        "  y = []\n",
        "  state = states_slow[i]\n",
        "  for s in state:\n",
        "    y.append(sorted['geo_lat'].iloc[s])\n",
        "    x.append(sorted['geo_lon'].iloc[s])\n",
        "  \n",
        "  ax.title.set_text(f\"T = {temps_slow[i]}, optimal_dist = {dists_slow[i]}\")\n",
        "  line.set_data(x, y)\n",
        "  return line,\n",
        "\n",
        "anim = animation.FuncAnimation(fig, animate, frames=len(states_slow), interval=20, init_func=init, blit=True)\n",
        "\n",
        "for i, city in enumerate(sorted['address']):\n",
        "  ax.annotate(city, (sorted['geo_lon'].iloc[i], sorted['geo_lat'].iloc[i]))\n",
        "\n",
        "anim.save('basic_animation.mp4', fps=30, extra_args=['-vcodec', 'libx264'])\n",
        "plt.show()"
      ],
      "metadata": {
        "colab": {
          "base_uri": "https://localhost:8080/",
          "height": 587
        },
        "id": "7MSgXmP_JsWe",
        "outputId": "63575301-1353-4735-a852-9a9ea335e16a"
      },
      "execution_count": 14,
      "outputs": [
        {
          "output_type": "display_data",
          "data": {
            "text/plain": [
              "<Figure size 1440x720 with 1 Axes>"
            ],
            "image/png": "[encoded data removed]"
          },
          "metadata": {
            "needs_background": "light"
          }
        }
      ]
    }
  ]
}